{
 "cells": [
  {
   "cell_type": "code",
   "execution_count": 1,
   "metadata": {
    "collapsed": false
   },
   "outputs": [],
   "source": [
    "import csv\n",
    "from selenium import webdriver\n",
    "from selenium.webdriver.common.keys import Keys\n",
    "from time import sleep"
   ]
  },
  {
   "cell_type": "code",
   "execution_count": null,
   "metadata": {
    "collapsed": true
   },
   "outputs": [],
   "source": [
    "def inner_scrape():\n",
    "    url= \"https://sensortower.com/ios/us/_/app/_/\" + ID\n",
    "    \n",
    "    name = driver.find_element_by_css_selector('.app-name-wrapper')\n",
    "    pub = driver.find_element_by_css_selector('.publisher-item a')\n",
    "    dl = driver.find_element_by_css_selector(\".downloads\") \n",
    "    rev = driver.find_element_by_css_selector('.revenue')\n",
    "    fivestar_count = driver.find_element_by_css_selector('tr:nth-child(1) .rating-count')\n",
    "    fourstar_count = driver.find_element_by_css_selector('tr:nth-child(2) .rating-count')\n",
    "    threestar_count = driver.find_element_by_css_selector('tr:nth-child(3) .rating-count')\n",
    "    twostar_count = driver.find_element_by_css_selector('tr:nth-child(4) .rating-count')\n",
    "    onestar_count = driver.find_element_by_css_selector('tr:nth-child(5) .rating-count')\n",
    "    \n",
    "    appname = name.text\n",
    "    publisher = pub.text\n",
    "    downloads = dl.text\n",
    "    revenue = rev.text\n",
    "    fivecount = fivestar_count.text\n",
    "    fourcount = fourstar_count.text\n",
    "    threecount = threestar_count.text\n",
    "    twocount = twostar_count.text\n",
    "    onecount = onestar_count.text\n",
    "    \n",
    "    df_add = csv.writer(open(\"MYFILE.csv\", \"wb\"))\n",
    "    df.writerow([appname,publisher,downloads,revenue,fivecount,fourcount,threecount,twocount,onecount])"
   ]
  },
  {
   "cell_type": "code",
   "execution_count": null,
   "metadata": {
    "collapsed": false
   },
   "outputs": [],
   "source": [
    "def outer_scrape():\n",
    "    df = csv.writer(open(\"MYFILE.csv\", \"wb\"))\n",
    "    df.writerow([\"name\",\"appid\",\"publisher\",\"downloads\",\"revenue\",\"fivestar_count\",\"fourstar_count\",\"threestar_count\",\n",
    "                 \"twostar_count\",\"onestar_count\"])\n",
    "    ids=[str(466386193), str(504504940), str(525216500)]\n",
    "    inner_scrape(ids)\n",
    "    "
   ]
  },
  {
   "cell_type": "code",
   "execution_count": 2,
   "metadata": {
    "collapsed": false,
    "scrolled": true
   },
   "outputs": [],
   "source": [
    "def initialize_driver():\n",
    "    driver = webdriver.Firefox()\n",
    "    #chromedriver = 'C:/Users/Vivian/Anaconda3/Lib/site-packages/selenium/webdriver/chrome'\n",
    "    #os.environ[\"webdriver.chrome.driver\"] = chromedriver\n",
    "    #driver = webdriver.Chrome(chromedriver)\n",
    "    #driver = webdriver.Chrome('/C:/Users/Vivian/Downloads/chromedriver_win32') \n",
    "    #'C:\\Users\\Vivian\\Anaconda3\\Lib\\site-packages\\selenium\\webdriver\\chrome'\n",
    "    driver.get(\"http://www.sensortower.com\")\n",
    "    sleep(6)\n",
    "    login = driver.find_element_by_class_name(\"nav-item-login\")\n",
    "    login.click()\n",
    "    sleep(3)\n",
    "    elem1 = driver.find_element_by_id('user_email')\n",
    "    elem1.clear()\n",
    "    elem1.send_keys('vivian.gao.17@dartmouth.edu')\n",
    "    \n",
    "    remember = driver.find_element_by_name('user[remember_me]')\n",
    "    remember.click()\n",
    "    \n",
    "    elem2 = driver.find_element_by_id('user_password')\n",
    "    elem2.clear()\n",
    "    elem2.send_keys('goodluck' + Keys.ENTER)\n",
    "    sleep(5)\n",
    "    #enter=driver.find_element_by_link_text('Login')\n",
    "    #enter.click()\n",
    "    #assert \"No results found.\" not in driver.page_source\n",
    "    #driver.close()\n",
    "    return driver"
   ]
  },
  {
   "cell_type": "code",
   "execution_count": 3,
   "metadata": {
    "collapsed": false
   },
   "outputs": [],
   "source": [
    "##Ignore the stuff below"
   ]
  },
  {
   "cell_type": "code",
   "execution_count": 7,
   "metadata": {
    "collapsed": false
   },
   "outputs": [],
   "source": [
    "def scrape(ID):\n",
    "      \n",
    "    driver=initialize_driver()     \n",
    "    url= \"https://sensortower.com/ios/us/_/app/_/\" + ID\n",
    "    sleep(5)\n",
    "    driver.get(url)\n",
    "    \n",
    "    downloads = driver.find_element_by_css_selector(\".downloads\") \n",
    "    revenue = driver.find_element_by_css_selector('.revenue')\n",
    "    name = driver.find_element_by_css_selector('.app-name-wrapper')\n",
    "    publisher = driver.find_element_by_css_selector('.publisher-item a')\n",
    "    ##visibility = driver.find_element_by_css_selector('.visibility-score')\n",
    "    #iap = driver.find_element_by_css_selector('.iap-item .info-value')\n",
    "    \n",
    "    fivestar_count = driver.find_element_by_css_selector('tr:nth-child(1) .rating-count')\n",
    "    fourstar_count = driver.find_element_by_css_selector('tr:nth-child(2) .rating-count')\n",
    "    threestar_count = driver.find_element_by_css_selector('tr:nth-child(3) .rating-count')\n",
    "    twostar_count = driver.find_element_by_css_selector('tr:nth-child(4) .rating-count')\n",
    "    onestar_count = driver.find_element_by_css_selector('tr:nth-child(5) .rating-count')\n",
    "    \n",
    "    pub = publisher.text\n",
    "    print (pub)\n",
    "    df.writerow\n",
    "    #var = driver.find_element_by_css_selector('')\n",
    "    #df.writerow([name,appid,publisher,downloads,revenue,visibility,iap,fivestar_count,fourstar_count,threestar_count,\n",
    "            #twostar_count,onestar_count])\n",
    "        \n",
    "\n",
    "\n"
   ]
  },
  {
   "cell_type": "code",
   "execution_count": 8,
   "metadata": {
    "collapsed": false
   },
   "outputs": [
    {
     "name": "stdout",
     "output_type": "stream",
     "text": [
      "Koramgame.com\n"
     ]
    }
   ],
   "source": [
    "scrape(appid)"
   ]
  },
  {
   "cell_type": "code",
   "execution_count": null,
   "metadata": {
    "collapsed": false
   },
   "outputs": [],
   "source": [
    "driver = webdriver.Firefox()\n",
    "driver.get(\"http://www.sensortower.com\")\n",
    "sleep(6)\n",
    "login = driver.find_element_by_class_name(\"nav-item-login\")\n",
    "login.click()\n",
    "sleep(3)\n",
    "elem1 = driver.find_element_by_id('user_email')\n",
    "elem1.clear()\n",
    "elem1.send_keys('vivian.gao.17@dartmouth.edu')\n",
    "    \n",
    "remember = driver.find_element_by_name('user[remember_me]')\n",
    "remember.click()\n",
    "    \n",
    "elem2 = driver.find_element_by_id('user_password')\n",
    "elem2.clear()\n",
    "elem2.send_keys('goodluck' + Keys.ENTER)\n",
    "    \n"
   ]
  },
  {
   "cell_type": "code",
   "execution_count": null,
   "metadata": {
    "collapsed": false
   },
   "outputs": [],
   "source": [
    "\n",
    "    "
   ]
  }
 ],
 "metadata": {
  "kernelspec": {
   "display_name": "Python 3",
   "language": "python",
   "name": "python3"
  },
  "language_info": {
   "codemirror_mode": {
    "name": "ipython",
    "version": 3
   },
   "file_extension": ".py",
   "mimetype": "text/x-python",
   "name": "python",
   "nbconvert_exporter": "python",
   "pygments_lexer": "ipython3",
   "version": "3.5.1"
  }
 },
 "nbformat": 4,
 "nbformat_minor": 0
}
