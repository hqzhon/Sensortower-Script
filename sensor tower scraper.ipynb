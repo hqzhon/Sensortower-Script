{
 "cells": [
  {
   "cell_type": "code",
   "execution_count": 1,
   "metadata": {
    "collapsed": false
   },
   "outputs": [],
   "source": [
    "import csv\n",
    "from selenium import webdriver\n",
    "from selenium.webdriver.common.keys import Keys"
   ]
  },
  {
   "cell_type": "code",
   "execution_count": null,
   "metadata": {
    "collapsed": true
   },
   "outputs": [],
   "source": [
    "df = csv.writer(open(\"MYFILE.csv\", \"wb\"))\n",
    "df.writerow([\"name\",\"appid\",\"publisher\",\"downloads\",\"revenue\",\"visibility_score\",\"iap?\",\"fivestar_count\",\n",
    "             \"fourstar_count\",\"threestar_count\",\"twostar_count\",\"onestar_count\"])\n"
   ]
  },
  {
   "cell_type": "code",
   "execution_count": 2,
   "metadata": {
    "collapsed": false,
    "scrolled": true
   },
   "outputs": [],
   "source": [
    "driver = webdriver.Firefox()\n",
    "driver.get(\"http://www.sensortower.com\")"
   ]
  },
  {
   "cell_type": "code",
   "execution_count": 3,
   "metadata": {
    "collapsed": false
   },
   "outputs": [],
   "source": [
    "login = driver.find_element_by_class_name(\"nav-item-login\")\n",
    "login.click()"
   ]
  },
  {
   "cell_type": "code",
   "execution_count": 4,
   "metadata": {
    "collapsed": false
   },
   "outputs": [],
   "source": [
    "elem1 = driver.find_element_by_id('user_email')\n",
    "elem1.clear()\n",
    "elem1.send_keys('insert email address')\n",
    "remember = driver.find_element_by_name('user[remember_me]')\n",
    "remember.click()\n",
    "elem2 = driver.find_element_by_id('user_password')\n",
    "elem2.clear()\n",
    "elem2.send_keys('insert password' + Keys.ENTER)\n",
    "#enter=driver.find_element_by_link_text('Login')\n",
    "#enter.click()\n",
    "#assert \"No results found.\" not in driver.page_source\n",
    "#driver.close()"
   ]
  },
  {
   "cell_type": "code",
   "execution_count": 8,
   "metadata": {
    "collapsed": false
   },
   "outputs": [],
   "source": [
    "appid = str(466386193)\n",
    "\n",
    "def scrape(ID):\n",
    "    url= \"https://sensortower.com/ios/us/_/app/_/\" + ID\n",
    "    driver.get(url)\n",
    "    #downloads = driver.find_element_by_css_selector(\".downloads\") #maybe use html to find more exact for this and rev\n",
    "    #revenue = driver.find_element_by_css_selector('.revenue')\n",
    "    #name = driver.find_element_by_css_selector('.app-name-wrapper')\n",
    "    publisher = driver.find_element_by_css_selector('.publisher-item a')\n",
    "    ##visibility = driver.find_element_by_css_selector('.visibility-score')\n",
    "    #iap = driver.find_element_by_css_selector('.iap-item .info-value')\n",
    "    #fivestar_count = driver.find_element_by_css_selector('tr:nth-child(1) .rating-count')\n",
    "    #fourstar_count = driver.find_element_by_css_selector('tr:nth-child(2) .rating-count')\n",
    "    #threestar_count = driver.find_element_by_css_selector('tr:nth-child(3) .rating-count')\n",
    "    #twostar_count = driver.find_element_by_css_selector('tr:nth-child(4) .rating-count')\n",
    "    #onestar_count = driver.find_element_by_css_selector('tr:nth-child(5) .rating-count')\n",
    "    pub = publisher.getAttribute()\n",
    "    print (pub)\n",
    "    #var = driver.find_element_by_css_selector('')\n",
    "    #df.writerow([name,appid,publisher,downloads,revenue,visibility,iap,fivestar_count,fourstar_count,threestar_count,\n",
    "            #twostar_count,onestar_count])\n",
    "        \n",
    "\n",
    "##Here I am using a sample appid to test the scrpaer for a single page, and am having difficulty getting the publisher info\n",
    "##to show up. My goal is to have the scraper take the publisher name and save it into the csv file I am writing, but first\n",
    "##I am trying to get it to print (this is not working). I do not know if I need to do something else first.\n"
   ]
  },
  {
   "cell_type": "code",
   "execution_count": 9,
   "metadata": {
    "collapsed": false
   },
   "outputs": [
    {
     "ename": "AttributeError",
     "evalue": "'WebElement' object has no attribute 'getAttribute'",
     "output_type": "error",
     "traceback": [
      "\u001b[1;31m---------------------------------------------------------------------------\u001b[0m",
      "\u001b[1;31mAttributeError\u001b[0m                            Traceback (most recent call last)",
      "\u001b[1;32m<ipython-input-9-5dea85d21faf>\u001b[0m in \u001b[0;36m<module>\u001b[1;34m()\u001b[0m\n\u001b[1;32m----> 1\u001b[1;33m \u001b[0mscrape\u001b[0m\u001b[1;33m(\u001b[0m\u001b[0mappid\u001b[0m\u001b[1;33m)\u001b[0m\u001b[1;33m\u001b[0m\u001b[0m\n\u001b[0m",
      "\u001b[1;32m<ipython-input-8-a48e4129f772>\u001b[0m in \u001b[0;36mscrape\u001b[1;34m(ID)\u001b[0m\n\u001b[0;32m     15\u001b[0m     \u001b[1;31m#twostar_count = driver.find_element_by_css_selector('tr:nth-child(4) .rating-count')\u001b[0m\u001b[1;33m\u001b[0m\u001b[1;33m\u001b[0m\u001b[0m\n\u001b[0;32m     16\u001b[0m     \u001b[1;31m#onestar_count = driver.find_element_by_css_selector('tr:nth-child(5) .rating-count')\u001b[0m\u001b[1;33m\u001b[0m\u001b[1;33m\u001b[0m\u001b[0m\n\u001b[1;32m---> 17\u001b[1;33m     \u001b[0mpub\u001b[0m \u001b[1;33m=\u001b[0m \u001b[0mpublisher\u001b[0m\u001b[1;33m.\u001b[0m\u001b[0mgetAttribute\u001b[0m\u001b[1;33m(\u001b[0m\u001b[1;33m)\u001b[0m\u001b[1;33m\u001b[0m\u001b[0m\n\u001b[0m\u001b[0;32m     18\u001b[0m     \u001b[0mprint\u001b[0m \u001b[1;33m(\u001b[0m\u001b[0mpub\u001b[0m\u001b[1;33m)\u001b[0m\u001b[1;33m\u001b[0m\u001b[0m\n\u001b[0;32m     19\u001b[0m     \u001b[1;31m#var = driver.find_element_by_css_selector('')\u001b[0m\u001b[1;33m\u001b[0m\u001b[1;33m\u001b[0m\u001b[0m\n",
      "\u001b[1;31mAttributeError\u001b[0m: 'WebElement' object has no attribute 'getAttribute'"
     ]
    }
   ],
   "source": [
    "scrape(appid)"
   ]
  },
  {
   "cell_type": "code",
   "execution_count": null,
   "metadata": {
    "collapsed": false
   },
   "outputs": [],
   "source": []
  },
  {
   "cell_type": "code",
   "execution_count": null,
   "metadata": {
    "collapsed": true
   },
   "outputs": [],
   "source": []
  }
 ],
 "metadata": {
  "kernelspec": {
   "display_name": "Python 3",
   "language": "python",
   "name": "python3"
  },
  "language_info": {
   "codemirror_mode": {
    "name": "ipython",
    "version": 3
   },
   "file_extension": ".py",
   "mimetype": "text/x-python",
   "name": "python",
   "nbconvert_exporter": "python",
   "pygments_lexer": "ipython3",
   "version": "3.5.1"
  }
 },
 "nbformat": 4,
 "nbformat_minor": 0
}
